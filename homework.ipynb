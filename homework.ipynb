{
  "cells": [
    {
      "source": [
        "# DX 601 Week 1 Homework"
      ],
      "cell_type": "code",
      "metadata": {
        "id": "xpHvjaPrN7K8"
      },
      "execution_count": 2,
      "outputs": []
    },
    {
      "source": [
        "## Introduction\n",
        "\n",
        "The purpose of this homework assignment is to give you exposure to basic Python to support your practice with the mathematical concepts of this course.\n",
        "If you are not taking module 2 consecutively with this module, you may find it helpful to look at the following Jupyter notebook.\n",
        "\n",
        "* [Python as a Calculator](https://github.com/bu-cds-omds/dx602-examples/blob/main/week01/video_python_as_a_calculator.ipynb). This notebook from module 2 has several examples using Python to calculate simple math expressions."
      ],
      "cell_type": "code",
      "metadata": {
        "id": "B6SbbD7eVG9D"
      },
      "execution_count": 3,
      "outputs": [
        {
          "output_type": "error",
          "ename": "SyntaxError",
          "evalue": "invalid syntax (2322501143.py, line 3)",
          "traceback": [
            "\u001b[0;36m  Cell \u001b[0;32mIn[3], line 3\u001b[0;36m\u001b[0m\n\u001b[0;31m    The purpose of this homework assignment is to give you exposure to basic Python to support your practice with the mathematical concepts of this course.\u001b[0m\n\u001b[0m        ^\u001b[0m\n\u001b[0;31mSyntaxError\u001b[0m\u001b[0;31m:\u001b[0m invalid syntax\n"
          ]
        }
      ]
    },
    {
      "cell_type": "markdown",
      "metadata": {
        "id": "kAEnWophUWgo"
      },
      "source": [
        "## Instructions\n",
        "\n",
        "You should replace every instance of \"...\" below.\n",
        "These are where you are expected to write code to answer each problem.\n",
        "\n",
        "Be sure to run each code block after you edit it to make sure it runs as expected.\n",
        "When you are done, we strongly recommend you run all the code from scratch (Runtime menu -> Restart and Run all) to make sure your current code works for all problems.\n",
        "\n",
        "If your code raises an exception when run from scratch, it will  interfere with the auto-grader process causing you to lose some or all points for this homework.\n",
        "Please ask for help in YellowDig or schedule an appointment with a learning facilitator if you get stuck.\n"
      ]
    },
    {
      "cell_type": "markdown",
      "metadata": {
        "id": "QQvABRYaUgLD"
      },
      "source": [
        "### Submission\n",
        "\n",
        "To submit your homework, take the following steps.\n",
        "\n",
        "1. Save and commit this notebook.\n",
        "2. Push your changes to GitHub.\n",
        "3. Confirm that your changes are visible in GitHub.\n",
        "4. Delete the codespace to avoid wasting your free quota.\n",
        "\n",
        "The auto-grading process usually completes within a few minutes of pushing to GitHub, but occasionally can take several minutes to an hour.\n",
        "If you submit your homework early enough, you may review the auto-grading results and fix any mistakes before the deadline.\n"
      ]
    },
    {
      "cell_type": "markdown",
      "metadata": {
        "id": "LuKsG1UXUoa-"
      },
      "source": [
        "## Problems"
      ]
    },
    {
      "cell_type": "markdown",
      "metadata": {
        "id": "gJsTIi6XUVxb"
      },
      "source": [
        "### Problem 1\n",
        "\n",
        "In Python, you can save the result of any expression or computation in a variable with an assignment statement.\n",
        "The following code assigns one to a new variable called `q1`."
      ]
    },
    {
      "cell_type": "code",
      "execution_count": 2,
      "metadata": {
        "id": "N7WutS70UX-z"
      },
      "outputs": [],
      "source": [
        "q1 = 1"
      ]
    },
    {
      "cell_type": "code",
      "execution_count": 3,
      "metadata": {
        "id": "dNzAtnglWSLJ"
      },
      "outputs": [
        {
          "output_type": "execute_result",
          "data": {
            "text/plain": [
              "1"
            ]
          },
          "metadata": {},
          "execution_count": 3
        }
      ],
      "source": [
        "q1"
      ]
    },
    {
      "source": [
        "Set the variable `p1` to the value 3.1."
      ],
      "cell_type": "code",
      "metadata": {
        "id": "DpHjrtwkUuIz"
      },
      "execution_count": 4,
      "outputs": [
        {
          "output_type": "error",
          "ename": "SyntaxError",
          "evalue": "invalid syntax (3109152549.py, line 1)",
          "traceback": [
            "\u001b[0;36m  Cell \u001b[0;32mIn[4], line 1\u001b[0;36m\u001b[0m\n\u001b[0;31m    Set the variable `p1` to the value 3.1.\u001b[0m\n\u001b[0m        ^\u001b[0m\n\u001b[0;31mSyntaxError\u001b[0m\u001b[0;31m:\u001b[0m invalid syntax\n"
          ]
        }
      ]
    },
    {
      "cell_type": "code",
      "execution_count": 5,
      "metadata": {
        "id": "0NvDwzZGUZHu"
      },
      "outputs": [],
      "source": [
        "p1 = 3.1"
      ]
    },
    {
      "cell_type": "code",
      "execution_count": 6,
      "metadata": {
        "id": "4lOMgf2nWUNG"
      },
      "outputs": [
        {
          "output_type": "execute_result",
          "data": {
            "text/plain": [
              "3.1"
            ]
          },
          "metadata": {},
          "execution_count": 6
        }
      ],
      "source": [
        "p1"
      ]
    },
    {
      "source": [
        "### Problem 2\n",
        "\n",
        "Simple mathematical expressions can be computed easily in Python.\n",
        "Here are examples of addition and subtraction."
      ],
      "cell_type": "code",
      "metadata": {
        "id": "GhjI3xcGQRc9"
      },
      "execution_count": 7,
      "outputs": [
        {
          "output_type": "error",
          "ename": "SyntaxError",
          "evalue": "invalid syntax (3527531837.py, line 3)",
          "traceback": [
            "\u001b[0;36m  Cell \u001b[0;32mIn[7], line 3\u001b[0;36m\u001b[0m\n\u001b[0;31m    Simple mathematical expressions can be computed easily in Python.\u001b[0m\n\u001b[0m           ^\u001b[0m\n\u001b[0;31mSyntaxError\u001b[0m\u001b[0;31m:\u001b[0m invalid syntax\n"
          ]
        }
      ]
    },
    {
      "cell_type": "code",
      "execution_count": 20,
      "metadata": {
        "id": "6m8qRC-1VJuJ"
      },
      "outputs": [
        {
          "output_type": "execute_result",
          "data": {
            "text/plain": [
              "4"
            ]
          },
          "metadata": {},
          "execution_count": 20
        }
      ],
      "source": [
        "1 + 3"
      ]
    },
    {
      "cell_type": "code",
      "execution_count": 10,
      "metadata": {
        "id": "o5fwWQwUVLEV"
      },
      "outputs": [
        {
          "output_type": "execute_result",
          "data": {
            "text/plain": [
              "3"
            ]
          },
          "metadata": {},
          "execution_count": 10
        }
      ],
      "source": [
        "5 - 2"
      ]
    },
    {
      "source": [
        "Multiplication and division operations are represented with the symbols `*` and `/` respectively."
      ],
      "cell_type": "code",
      "metadata": {
        "id": "z88ZyfmxVS0L"
      },
      "execution_count": null,
      "outputs": []
    },
    {
      "cell_type": "code",
      "execution_count": 8,
      "metadata": {
        "id": "quyzSYb6VRNl"
      },
      "outputs": [
        {
          "output_type": "execute_result",
          "data": {
            "text/plain": [
              "12"
            ]
          },
          "metadata": {},
          "execution_count": 8
        }
      ],
      "source": [
        "3 * 4"
      ]
    },
    {
      "cell_type": "code",
      "execution_count": 12,
      "metadata": {
        "id": "qArshkUjVaIb"
      },
      "outputs": [
        {
          "output_type": "execute_result",
          "data": {
            "text/plain": [
              "2.6666666666666665"
            ]
          },
          "metadata": {},
          "execution_count": 12
        }
      ],
      "source": [
        "8 / 3"
      ]
    },
    {
      "source": [
        "The result of any of these expressions can be assigned to a variable."
      ],
      "cell_type": "code",
      "metadata": {
        "id": "VCPf2dFzVc00"
      },
      "execution_count": 9,
      "outputs": [
        {
          "output_type": "error",
          "ename": "SyntaxError",
          "evalue": "invalid syntax (1025499890.py, line 1)",
          "traceback": [
            "\u001b[0;36m  Cell \u001b[0;32mIn[9], line 1\u001b[0;36m\u001b[0m\n\u001b[0;31m    The result of any of these expressions can be assigned to a variable.\u001b[0m\n\u001b[0m        ^\u001b[0m\n\u001b[0;31mSyntaxError\u001b[0m\u001b[0;31m:\u001b[0m invalid syntax\n"
          ]
        }
      ]
    },
    {
      "cell_type": "code",
      "execution_count": 11,
      "metadata": {
        "id": "w5AmygTyVj_L"
      },
      "outputs": [],
      "source": [
        "q2 = 5 * 7"
      ]
    },
    {
      "cell_type": "code",
      "execution_count": 12,
      "metadata": {
        "id": "JcKcR7XIWTCV"
      },
      "outputs": [
        {
          "output_type": "execute_result",
          "data": {
            "text/plain": [
              "35"
            ]
          },
          "metadata": {},
          "execution_count": 12
        }
      ],
      "source": [
        "q2"
      ]
    },
    {
      "source": [
        "Set `p2` to the result of 9 divided by 6."
      ],
      "cell_type": "code",
      "metadata": {
        "id": "PjpoSQSFVmeA"
      },
      "execution_count": 13,
      "outputs": [
        {
          "output_type": "error",
          "ename": "SyntaxError",
          "evalue": "invalid syntax (834779040.py, line 1)",
          "traceback": [
            "\u001b[0;36m  Cell \u001b[0;32mIn[13], line 1\u001b[0;36m\u001b[0m\n\u001b[0;31m    Set `p2` to the result of 9 divided by 6.\u001b[0m\n\u001b[0m        ^\u001b[0m\n\u001b[0;31mSyntaxError\u001b[0m\u001b[0;31m:\u001b[0m invalid syntax\n"
          ]
        }
      ]
    },
    {
      "cell_type": "code",
      "execution_count": 14,
      "metadata": {
        "id": "kx7jBsYPVwTL"
      },
      "outputs": [],
      "source": [
        "p2 = 9/6"
      ]
    },
    {
      "cell_type": "code",
      "execution_count": 15,
      "metadata": {
        "id": "cFZFq4kBWU7d"
      },
      "outputs": [
        {
          "output_type": "execute_result",
          "data": {
            "text/plain": [
              "1.5"
            ]
          },
          "metadata": {},
          "execution_count": 15
        }
      ],
      "source": [
        "p2"
      ]
    },
    {
      "cell_type": "markdown",
      "metadata": {
        "id": "F196E7CsUwou"
      },
      "source": [
        "### Problem 3\n",
        "\n",
        "Parenthesis in Python have two uses.\n",
        "Parenthesis can group operations in a Python expression to show that they should be executed first, and they can be used to call functions.\n",
        "Here is an example of the first usage."
      ]
    },
    {
      "cell_type": "code",
      "execution_count": 16,
      "metadata": {
        "id": "guTh8jqGWWW3"
      },
      "outputs": [],
      "source": [
        "q3 = (2 + 8) * 3"
      ]
    },
    {
      "source": [
        "Set `p3` to the result of the mathematical expression $\\frac{2 + 5}{3}$."
      ],
      "cell_type": "code",
      "metadata": {
        "id": "ZnNAyjbAWeQH"
      },
      "execution_count": 17,
      "outputs": [
        {
          "output_type": "error",
          "ename": "SyntaxError",
          "evalue": "invalid syntax (1370046589.py, line 1)",
          "traceback": [
            "\u001b[0;36m  Cell \u001b[0;32mIn[17], line 1\u001b[0;36m\u001b[0m\n\u001b[0;31m    Set `p3` to the result of the mathematical expression $\\frac{2 + 5}{3}$.\u001b[0m\n\u001b[0m        ^\u001b[0m\n\u001b[0;31mSyntaxError\u001b[0m\u001b[0;31m:\u001b[0m invalid syntax\n"
          ]
        }
      ]
    },
    {
      "cell_type": "code",
      "execution_count": 20,
      "metadata": {
        "id": "7Y_rrRj-WbHA"
      },
      "outputs": [
        {
          "output_type": "execute_result",
          "data": {
            "text/plain": [
              "30"
            ]
          },
          "metadata": {},
          "execution_count": 20
        }
      ],
      "source": [
        "q3"
      ]
    },
    {
      "cell_type": "code",
      "execution_count": 21,
      "metadata": {
        "id": "XA7DgtLYWq9G"
      },
      "outputs": [],
      "source": [
        "p3 = 7/3"
      ]
    },
    {
      "cell_type": "code",
      "execution_count": 22,
      "metadata": {
        "id": "fSUwmDj3WzNu"
      },
      "outputs": [
        {
          "output_type": "execute_result",
          "data": {
            "text/plain": [
              "2.3333333333333335"
            ]
          },
          "metadata": {},
          "execution_count": 22
        }
      ],
      "source": [
        "p3"
      ]
    },
    {
      "cell_type": "markdown",
      "metadata": {
        "id": "zEeKT39KUxdC"
      },
      "source": [
        "### Problem 4\n",
        "\n",
        "Exponentiation is a repeated multiplication operator.\n",
        "Exponentiation is expressed with the mathematical syntax $x^y$ which is read as $x$ to the $y\\mathrm{th}$ power.\n",
        "If $y$ is a whole number, this is the same as $y$ copies of $x$ multiplied together.\n",
        "For example, $3^5 = 3 * 3 * 3 * 3 * 3$.\n",
        "\n",
        "Python uses `**` for exponentiation, so the mathematical expression $x^y$ is `x ** y` in Python."
      ]
    },
    {
      "cell_type": "code",
      "execution_count": 23,
      "metadata": {
        "id": "B5S0BK3ZduGt"
      },
      "outputs": [
        {
          "output_type": "execute_result",
          "data": {
            "text/plain": [
              "243"
            ]
          },
          "metadata": {},
          "execution_count": 23
        }
      ],
      "source": [
        "3 ** 5"
      ]
    },
    {
      "cell_type": "markdown",
      "metadata": {
        "id": "W6AOkPD_dwA1"
      },
      "source": [
        "Set `p4` to $2^8$."
      ]
    },
    {
      "cell_type": "code",
      "execution_count": 36,
      "metadata": {
        "id": "az0GF915d9bO"
      },
      "outputs": [],
      "source": [
        "p4 = 2 ** 8"
      ]
    },
    {
      "cell_type": "code",
      "execution_count": 37,
      "metadata": {},
      "outputs": [
        {
          "output_type": "execute_result",
          "data": {
            "text/plain": [
              "256"
            ]
          },
          "metadata": {},
          "execution_count": 37
        }
      ],
      "source": [
        "p4"
      ]
    },
    {
      "source": [
        "### Problem 5\n",
        "\n",
        "Set `p5` to the value $\\pi^2$.\n",
        "The variable `q5` has the value of $\\pi$ for your convenience."
      ],
      "cell_type": "code",
      "metadata": {
        "id": "Toz6EK2LUx_7"
      },
      "execution_count": 32,
      "outputs": [
        {
          "output_type": "error",
          "ename": "SyntaxError",
          "evalue": "invalid syntax (3279270110.py, line 3)",
          "traceback": [
            "\u001b[0;36m  Cell \u001b[0;32mIn[32], line 3\u001b[0;36m\u001b[0m\n\u001b[0;31m    Set `p5` to the value $\\pi^2$.\u001b[0m\n\u001b[0m        ^\u001b[0m\n\u001b[0;31mSyntaxError\u001b[0m\u001b[0;31m:\u001b[0m invalid syntax\n"
          ]
        }
      ]
    },
    {
      "cell_type": "code",
      "execution_count": 38,
      "metadata": {
        "id": "VCMvfjnTeBRC"
      },
      "outputs": [],
      "source": [
        "import math"
      ]
    },
    {
      "cell_type": "code",
      "execution_count": 39,
      "metadata": {
        "id": "qcuDO6iGeCOe"
      },
      "outputs": [],
      "source": [
        "q5 = math.pi"
      ]
    },
    {
      "cell_type": "code",
      "execution_count": 40,
      "metadata": {
        "id": "yRLD-PqYeDrM"
      },
      "outputs": [
        {
          "output_type": "execute_result",
          "data": {
            "text/plain": [
              "3.141592653589793"
            ]
          },
          "metadata": {},
          "execution_count": 40
        }
      ],
      "source": [
        "q5"
      ]
    },
    {
      "cell_type": "code",
      "execution_count": 41,
      "metadata": {
        "id": "sVlxEtwpeFCv"
      },
      "outputs": [],
      "source": [
        "p5 = q5 ** 2"
      ]
    },
    {
      "cell_type": "code",
      "execution_count": 42,
      "metadata": {
        "id": "5PfxkngQeGRI"
      },
      "outputs": [
        {
          "output_type": "execute_result",
          "data": {
            "text/plain": [
              "9.869604401089358"
            ]
          },
          "metadata": {},
          "execution_count": 42
        }
      ],
      "source": [
        "p5"
      ]
    },
    {
      "source": [
        "### Problem 6\n",
        "\n",
        "Python uses brackets like `[` and `]` to create lists.\n",
        "Many examples of statistics next week will use lists for example data.\n",
        "\n",
        "The following example creates a list `q6` containing values 1, 4 and 6."
      ],
      "cell_type": "code",
      "metadata": {
        "id": "EaoT1RMVeYnB"
      },
      "execution_count": 43,
      "outputs": [
        {
          "output_type": "error",
          "ename": "SyntaxError",
          "evalue": "invalid syntax (4063567206.py, line 3)",
          "traceback": [
            "\u001b[0;36m  Cell \u001b[0;32mIn[43], line 3\u001b[0;36m\u001b[0m\n\u001b[0;31m    Python uses brackets like `[` and `]` to create lists.\u001b[0m\n\u001b[0m           ^\u001b[0m\n\u001b[0;31mSyntaxError\u001b[0m\u001b[0;31m:\u001b[0m invalid syntax\n"
          ]
        }
      ]
    },
    {
      "cell_type": "code",
      "execution_count": 44,
      "metadata": {
        "id": "_7uc314Hel3N"
      },
      "outputs": [],
      "source": [
        "q6 = [1, 4, 6]"
      ]
    },
    {
      "cell_type": "code",
      "execution_count": 45,
      "metadata": {
        "id": "EdUNnIZTeoY9"
      },
      "outputs": [
        {
          "output_type": "execute_result",
          "data": {
            "text/plain": [
              "[1, 4, 6]"
            ]
          },
          "metadata": {},
          "execution_count": 45
        }
      ],
      "source": [
        "q6"
      ]
    },
    {
      "source": [
        "Assign a list containing the numbers 0, 2 and 3 in that order to `p6`."
      ],
      "cell_type": "code",
      "metadata": {
        "id": "gTy9EwxTpVhG"
      },
      "execution_count": 47,
      "outputs": [
        {
          "output_type": "error",
          "ename": "SyntaxError",
          "evalue": "invalid syntax (802638500.py, line 1)",
          "traceback": [
            "\u001b[0;36m  Cell \u001b[0;32mIn[47], line 1\u001b[0;36m\u001b[0m\n\u001b[0;31m    Assign a list containing the numbers 0, 2 and 3 in that order to `p6`.\u001b[0m\n\u001b[0m           ^\u001b[0m\n\u001b[0;31mSyntaxError\u001b[0m\u001b[0;31m:\u001b[0m invalid syntax\n"
          ]
        }
      ]
    },
    {
      "cell_type": "code",
      "execution_count": 48,
      "metadata": {
        "id": "3ycH3TbQpgU_"
      },
      "outputs": [],
      "source": [
        "p6 = [0, 2 ,3]"
      ]
    },
    {
      "cell_type": "code",
      "execution_count": 49,
      "metadata": {
        "id": "YZDol4hhqr48"
      },
      "outputs": [
        {
          "output_type": "execute_result",
          "data": {
            "text/plain": [
              "[0, 2, 3]"
            ]
          },
          "metadata": {},
          "execution_count": 49
        }
      ],
      "source": [
        "p6"
      ]
    },
    {
      "source": [
        "### Problem 7\n",
        "\n",
        "A signature feature of Python is list comprehensions.\n",
        "A list comprehension can be made taking in an old list, and applying a formula to every entry in the old list, and returning a list with the resulting values.\n",
        "This will be useful for summation expressions such as $\\sum_{i=0}^9 x_i^2$.\n",
        "\n",
        "The following example creates a list `q7a` with the first 5 prime numbers, and then creates another list `q7b` with the squares of the numbers in `q7a`.\n",
        "`q7b` is created with a list comprehension."
      ],
      "cell_type": "code",
      "metadata": {
        "id": "z4QVktiLqrLp"
      },
      "execution_count": null,
      "outputs": []
    },
    {
      "cell_type": "code",
      "execution_count": 50,
      "metadata": {
        "id": "RWkFEiqzrwqQ"
      },
      "outputs": [],
      "source": [
        "q7a = [2, 3, 5, 7, 11]"
      ]
    },
    {
      "cell_type": "code",
      "execution_count": 51,
      "metadata": {
        "colab": {
          "base_uri": "https://localhost:8080/"
        },
        "id": "3E3Tmh8Ir41c",
        "outputId": "6e51a245-d656-44f7-f80b-531f536ad325"
      },
      "outputs": [
        {
          "output_type": "execute_result",
          "data": {
            "text/plain": [
              "[2, 3, 5, 7, 11]"
            ]
          },
          "metadata": {},
          "execution_count": 51
        }
      ],
      "source": [
        "q7a"
      ]
    },
    {
      "cell_type": "code",
      "execution_count": 64,
      "metadata": {
        "id": "h_4SYgNEr2dW"
      },
      "outputs": [],
      "source": [
        "q7b = [x**2 for x in q7a]"
      ]
    },
    {
      "cell_type": "code",
      "execution_count": 65,
      "metadata": {
        "colab": {
          "base_uri": "https://localhost:8080/"
        },
        "id": "YEKFjUKGr5iP",
        "outputId": "e1454cad-a4a6-4155-f47c-180c4c5ec384"
      },
      "outputs": [
        {
          "output_type": "execute_result",
          "data": {
            "text/plain": [
              "[4, 9, 25, 49, 121]"
            ]
          },
          "metadata": {},
          "execution_count": 65
        }
      ],
      "source": [
        "q7b"
      ]
    },
    {
      "source": [
        "Set `p7` to be a list with values one higher than the corresponding entries in `q7b` using a list comprehension."
      ],
      "cell_type": "code",
      "metadata": {
        "id": "Wrlk7BphsTwb"
      },
      "execution_count": 60,
      "outputs": [
        {
          "output_type": "error",
          "ename": "SyntaxError",
          "evalue": "invalid syntax (589347476.py, line 1)",
          "traceback": [
            "\u001b[0;36m  Cell \u001b[0;32mIn[60], line 1\u001b[0;36m\u001b[0m\n\u001b[0;31m    Set `p7` to be a list with values one higher than the corresponding entries in `q7b` using a list comprehension.\u001b[0m\n\u001b[0m        ^\u001b[0m\n\u001b[0;31mSyntaxError\u001b[0m\u001b[0;31m:\u001b[0m invalid syntax\n"
          ]
        }
      ]
    },
    {
      "cell_type": "code",
      "execution_count": 66,
      "metadata": {
        "id": "XkwKMmUfsQsC"
      },
      "outputs": [],
      "source": [
        "p7 = [x++1 for x in q7b]"
      ]
    },
    {
      "cell_type": "code",
      "execution_count": 67,
      "metadata": {
        "id": "SAWxHbvEsSg_"
      },
      "outputs": [
        {
          "output_type": "execute_result",
          "data": {
            "text/plain": [
              "[5, 10, 26, 50, 122]"
            ]
          },
          "metadata": {},
          "execution_count": 67
        }
      ],
      "source": [
        "p7"
      ]
    },
    {
      "source": [
        "### Problem 8\n",
        "\n",
        "The Python built-in function `sum` takes in any sequence of values such as a list, and returns the sum of the values in the list.\n",
        "\n",
        "The following example shows how to calculate the sum of the values in the list `q8a`."
      ],
      "cell_type": "code",
      "metadata": {
        "id": "-cFs3FISQFLg"
      },
      "execution_count": 68,
      "outputs": [
        {
          "output_type": "error",
          "ename": "SyntaxError",
          "evalue": "invalid syntax (3513106486.py, line 3)",
          "traceback": [
            "\u001b[0;36m  Cell \u001b[0;32mIn[68], line 3\u001b[0;36m\u001b[0m\n\u001b[0;31m    The Python built-in function `sum` takes in any sequence of values such as a list, and returns the sum of the values in the list.\u001b[0m\n\u001b[0m        ^\u001b[0m\n\u001b[0;31mSyntaxError\u001b[0m\u001b[0;31m:\u001b[0m invalid syntax\n"
          ]
        }
      ]
    },
    {
      "cell_type": "code",
      "execution_count": 69,
      "metadata": {
        "id": "-i6kQ9A9Rx33"
      },
      "outputs": [],
      "source": [
        "q8a = [1, 2, 3, 4, 5]"
      ]
    },
    {
      "cell_type": "code",
      "execution_count": 70,
      "metadata": {
        "id": "KvqrH2Q7R3Tu"
      },
      "outputs": [
        {
          "output_type": "execute_result",
          "data": {
            "text/plain": [
              "15"
            ]
          },
          "metadata": {},
          "execution_count": 70
        }
      ],
      "source": [
        "sum(q8a)"
      ]
    },
    {
      "source": [
        "Set `p8` to be the sum of the values in `q8b`."
      ],
      "cell_type": "code",
      "metadata": {
        "id": "e_L_2bLvs6z3"
      },
      "execution_count": 71,
      "outputs": [
        {
          "output_type": "error",
          "ename": "SyntaxError",
          "evalue": "invalid syntax (719275133.py, line 1)",
          "traceback": [
            "\u001b[0;36m  Cell \u001b[0;32mIn[71], line 1\u001b[0;36m\u001b[0m\n\u001b[0;31m    Set `p8` to be the sum of the values in `q8b`.\u001b[0m\n\u001b[0m        ^\u001b[0m\n\u001b[0;31mSyntaxError\u001b[0m\u001b[0;31m:\u001b[0m invalid syntax\n"
          ]
        }
      ]
    },
    {
      "cell_type": "code",
      "execution_count": 72,
      "metadata": {
        "id": "0R1IET-RR6UP"
      },
      "outputs": [],
      "source": [
        "q8b = [0.4, 6.25, 999, 0.245, 23.5, 31.67, 32.67]"
      ]
    },
    {
      "cell_type": "code",
      "execution_count": 75,
      "metadata": {
        "id": "jk7NiUsUSBXo"
      },
      "outputs": [],
      "source": [
        "p8 = sum(q8b)"
      ]
    },
    {
      "cell_type": "code",
      "execution_count": 76,
      "metadata": {
        "id": "ADgnNy63SrFn"
      },
      "outputs": [
        {
          "output_type": "execute_result",
          "data": {
            "text/plain": [
              "1093.7350000000001"
            ]
          },
          "metadata": {},
          "execution_count": 76
        }
      ],
      "source": [
        "p8"
      ]
    },
    {
      "cell_type": "markdown",
      "metadata": {
        "id": "HzmjbkHUUznD"
      },
      "source": [
        "### Problem 9\n",
        "\n",
        "The Python built-in function `len` returns the length of objects like lists.\n",
        "\n",
        "The following example checks the length of list `q9a`."
      ]
    },
    {
      "cell_type": "code",
      "execution_count": 77,
      "metadata": {
        "id": "2IVAJ8PkSgU1"
      },
      "outputs": [],
      "source": [
        "q9a = [8.6, 1.5, 8.6, 0.3, 8.2, 2.5, 6.5, 0.0, 8.4, 7.8]"
      ]
    },
    {
      "cell_type": "code",
      "execution_count": 78,
      "metadata": {
        "id": "Avyn4QYPSjbL"
      },
      "outputs": [
        {
          "output_type": "execute_result",
          "data": {
            "text/plain": [
              "10"
            ]
          },
          "metadata": {},
          "execution_count": 78
        }
      ],
      "source": [
        "len(q9a)"
      ]
    },
    {
      "source": [
        "Set `p9` to be the length of the list `q9b`."
      ],
      "cell_type": "code",
      "metadata": {
        "id": "fYwOZmWktV-t"
      },
      "execution_count": null,
      "outputs": []
    },
    {
      "cell_type": "code",
      "execution_count": 79,
      "metadata": {
        "id": "CzuZZB13SliK"
      },
      "outputs": [],
      "source": [
        "q9b = [7.0, 3.9, 7.8, 3.7, 5.8, 6.7, 4.8, 3.8]"
      ]
    },
    {
      "cell_type": "code",
      "execution_count": 80,
      "metadata": {
        "id": "sXmyelMaSoUP"
      },
      "outputs": [],
      "source": [
        "p9 = len(q9b)"
      ]
    },
    {
      "cell_type": "code",
      "execution_count": 81,
      "metadata": {
        "id": "xNWuo402Sryb"
      },
      "outputs": [
        {
          "output_type": "execute_result",
          "data": {
            "text/plain": [
              "8"
            ]
          },
          "metadata": {},
          "execution_count": 81
        }
      ],
      "source": [
        "p9"
      ]
    },
    {
      "source": [
        "### Problem 10\n",
        "\n",
        "Set `p10` to the sum of the values in `q10`."
      ],
      "cell_type": "code",
      "metadata": {
        "id": "NalMYNMTU0Rf"
      },
      "execution_count": 82,
      "outputs": [
        {
          "output_type": "error",
          "ename": "SyntaxError",
          "evalue": "invalid syntax (3654169678.py, line 3)",
          "traceback": [
            "\u001b[0;36m  Cell \u001b[0;32mIn[82], line 3\u001b[0;36m\u001b[0m\n\u001b[0;31m    Set `p10` to the sum of the values in `q10`.\u001b[0m\n\u001b[0m        ^\u001b[0m\n\u001b[0;31mSyntaxError\u001b[0m\u001b[0;31m:\u001b[0m invalid syntax\n"
          ]
        }
      ]
    },
    {
      "cell_type": "code",
      "execution_count": 83,
      "metadata": {
        "id": "zhxXRg_cSQ2g"
      },
      "outputs": [],
      "source": [
        "q10 = [8.0, 0.9, 8.4, 3.5, 9.4, 9.4, 1.8, 2.9, 9.2, 5.1]"
      ]
    },
    {
      "cell_type": "code",
      "execution_count": 85,
      "metadata": {
        "id": "Yjf2fBXiSX2s"
      },
      "outputs": [],
      "source": [
        "p10 = sum(q10)"
      ]
    },
    {
      "cell_type": "code",
      "execution_count": 86,
      "metadata": {
        "id": "o9EslYsASuot"
      },
      "outputs": [
        {
          "output_type": "execute_result",
          "data": {
            "text/plain": [
              "58.6"
            ]
          },
          "metadata": {},
          "execution_count": 86
        }
      ],
      "source": [
        "p10"
      ]
    },
    {
      "source": [
        "### Problem 11\n",
        "\n",
        "Set `p11` to be the length of `q11`."
      ],
      "cell_type": "code",
      "metadata": {
        "id": "tm9Mcg6TU1Tt"
      },
      "execution_count": 87,
      "outputs": [
        {
          "output_type": "error",
          "ename": "SyntaxError",
          "evalue": "invalid syntax (1524815385.py, line 3)",
          "traceback": [
            "\u001b[0;36m  Cell \u001b[0;32mIn[87], line 3\u001b[0;36m\u001b[0m\n\u001b[0;31m    Set `p11` to be the length of `q11`.\u001b[0m\n\u001b[0m        ^\u001b[0m\n\u001b[0;31mSyntaxError\u001b[0m\u001b[0;31m:\u001b[0m invalid syntax\n"
          ]
        }
      ]
    },
    {
      "cell_type": "code",
      "execution_count": 90,
      "metadata": {
        "id": "OBhAYutISy4h"
      },
      "outputs": [],
      "source": [
        "q11 = [5.2, 9.6, 8.0, 2.4, 0.4, 1.8, 5.5]"
      ]
    },
    {
      "cell_type": "code",
      "execution_count": 91,
      "metadata": {
        "id": "4byIVhtMS2UV"
      },
      "outputs": [],
      "source": [
        "p11 = len(q11)"
      ]
    },
    {
      "cell_type": "code",
      "execution_count": 92,
      "metadata": {
        "id": "Wpp75_v4S3eT"
      },
      "outputs": [
        {
          "output_type": "execute_result",
          "data": {
            "text/plain": [
              "7"
            ]
          },
          "metadata": {},
          "execution_count": 92
        }
      ],
      "source": [
        "p11"
      ]
    },
    {
      "source": [
        "### Problem 12\n",
        "\n",
        "List comprehensions can be combined with the sum function to implement summation expressions."
      ],
      "cell_type": "code",
      "metadata": {
        "id": "4PgsWaWPwWUm"
      },
      "execution_count": null,
      "outputs": []
    },
    {
      "cell_type": "code",
      "execution_count": 93,
      "metadata": {
        "id": "Y2gkP5mswgeS"
      },
      "outputs": [],
      "source": [
        "q12a = [3, 4, 5, 6, 7]"
      ]
    },
    {
      "cell_type": "code",
      "execution_count": 94,
      "metadata": {
        "id": "Pc9t7o80wmOA"
      },
      "outputs": [],
      "source": [
        "q12b = sum([x * x for x in q12a])"
      ]
    },
    {
      "cell_type": "code",
      "execution_count": 95,
      "metadata": {
        "id": "VcQ9HEzCwvvW"
      },
      "outputs": [
        {
          "output_type": "execute_result",
          "data": {
            "text/plain": [
              "135"
            ]
          },
          "metadata": {},
          "execution_count": 95
        }
      ],
      "source": [
        "q12b"
      ]
    },
    {
      "source": [
        "Set `p12` to be the sum of $x^3$ for x from 2 to 5 (inclusive)."
      ],
      "cell_type": "code",
      "metadata": {
        "id": "bF8eD3guwxkg"
      },
      "execution_count": 96,
      "outputs": [
        {
          "output_type": "error",
          "ename": "SyntaxError",
          "evalue": "invalid syntax (2614956556.py, line 1)",
          "traceback": [
            "\u001b[0;36m  Cell \u001b[0;32mIn[96], line 1\u001b[0;36m\u001b[0m\n\u001b[0;31m    Set `p12` to be the sum of $x^3$ for x from 2 to 5 (inclusive).\u001b[0m\n\u001b[0m        ^\u001b[0m\n\u001b[0;31mSyntaxError\u001b[0m\u001b[0;31m:\u001b[0m invalid syntax\n"
          ]
        }
      ]
    },
    {
      "cell_type": "code",
      "execution_count": 97,
      "metadata": {
        "id": "rmf7zFlFw7DJ"
      },
      "outputs": [],
      "source": [
        "q12c = [2, 3, 4, 5]"
      ]
    },
    {
      "cell_type": "code",
      "execution_count": 100,
      "metadata": {
        "id": "mqlgHJT8w84P"
      },
      "outputs": [],
      "source": [
        "p12 = sum([x**3 for x in q12c])"
      ]
    },
    {
      "cell_type": "code",
      "execution_count": 101,
      "metadata": {
        "id": "V8zJR8qfw95q"
      },
      "outputs": [
        {
          "output_type": "execute_result",
          "data": {
            "text/plain": [
              "224"
            ]
          },
          "metadata": {},
          "execution_count": 101
        }
      ],
      "source": [
        "p12"
      ]
    },
    {
      "source": [
        "### Problem 13\n",
        "\n",
        "We will be using the pandas module to load structured data in this module.\n",
        "\n",
        "The following example reads the contents of the file \"f13a.tsv\" and stores it in the variable `q13`."
      ],
      "cell_type": "code",
      "metadata": {
        "id": "rBruOAzcUt33"
      },
      "execution_count": 104,
      "outputs": [
        {
          "output_type": "error",
          "ename": "SyntaxError",
          "evalue": "invalid syntax (882000349.py, line 3)",
          "traceback": [
            "\u001b[0;36m  Cell \u001b[0;32mIn[104], line 3\u001b[0;36m\u001b[0m\n\u001b[0;31m    We will be using the pandas module to load structured data in this module.\u001b[0m\n\u001b[0m       ^\u001b[0m\n\u001b[0;31mSyntaxError\u001b[0m\u001b[0;31m:\u001b[0m invalid syntax\n"
          ]
        }
      ]
    },
    {
      "cell_type": "code",
      "execution_count": 3,
      "metadata": {
        "id": "WlSYjSwkNtSw"
      },
      "outputs": [
        {
          "output_type": "error",
          "ename": "ModuleNotFoundError",
          "evalue": "No module named 'pandas'",
          "traceback": [
            "\u001b[0;31m---------------------------------------------------------------------------\u001b[0m",
            "\u001b[0;31mModuleNotFoundError\u001b[0m                       Traceback (most recent call last)",
            "Cell \u001b[0;32mIn[3], line 2\u001b[0m\n\u001b[1;32m      1\u001b[0m \u001b[38;5;66;03m# load pandas module and make it accessible as \"pd\"\u001b[39;00m\n\u001b[0;32m----> 2\u001b[0m \u001b[38;5;28;01mimport\u001b[39;00m\u001b[38;5;250m \u001b[39m\u001b[38;5;21;01mpandas\u001b[39;00m\u001b[38;5;250m \u001b[39m\u001b[38;5;28;01mas\u001b[39;00m\u001b[38;5;250m \u001b[39m\u001b[38;5;21;01mpd\u001b[39;00m\n",
            "\u001b[0;31mModuleNotFoundError\u001b[0m: No module named 'pandas'"
          ]
        }
      ],
      "source": [
        "# load pandas module and make it accessible as \"pd\"\n",
        "import pandas as pd"
      ]
    },
    {
      "cell_type": "code",
      "execution_count": 4,
      "metadata": {
        "id": "hmUd3FPTN7I7"
      },
      "outputs": [
        {
          "output_type": "error",
          "ename": "NameError",
          "evalue": "name 'pd' is not defined",
          "traceback": [
            "\u001b[0;31m---------------------------------------------------------------------------\u001b[0m",
            "\u001b[0;31mNameError\u001b[0m                                 Traceback (most recent call last)",
            "Cell \u001b[0;32mIn[4], line 4\u001b[0m\n\u001b[1;32m      1\u001b[0m \u001b[38;5;66;03m# read the f13a.tsv as a tab-separated file.\u001b[39;00m\n\u001b[1;32m      2\u001b[0m \u001b[38;5;66;03m# the sep parameter tells pandas how to parse the file,\u001b[39;00m\n\u001b[1;32m      3\u001b[0m \u001b[38;5;66;03m# and will be used for most files in this course.\u001b[39;00m\n\u001b[0;32m----> 4\u001b[0m q13 \u001b[38;5;241m=\u001b[39m \u001b[43mpd\u001b[49m\u001b[38;5;241m.\u001b[39mread_csv(\u001b[38;5;124m\"\u001b[39m\u001b[38;5;124mf13a.tsv\u001b[39m\u001b[38;5;124m\"\u001b[39m, sep\u001b[38;5;241m=\u001b[39m\u001b[38;5;124m\"\u001b[39m\u001b[38;5;130;01m\\t\u001b[39;00m\u001b[38;5;124m\"\u001b[39m)\n",
            "\u001b[0;31mNameError\u001b[0m: name 'pd' is not defined"
          ]
        }
      ],
      "source": [
        "# read the f13a.tsv as a tab-separated file.\n",
        "# the sep parameter tells pandas how to parse the file,\n",
        "# and will be used for most files in this course.\n",
        "q13 = pd.read_csv(\"f13a.tsv\", sep=\"\\t\")"
      ]
    },
    {
      "cell_type": "code",
      "execution_count": 4,
      "metadata": {
        "id": "6PRAfT3FORpJ"
      },
      "outputs": [
        {
          "output_type": "error",
          "ename": "NameError",
          "evalue": "name 'q13' is not defined",
          "traceback": [
            "\u001b[0;31m---------------------------------------------------------------------------\u001b[0m",
            "\u001b[0;31mNameError\u001b[0m                                 Traceback (most recent call last)",
            "Cell \u001b[0;32mIn[4], line 3\u001b[0m\n\u001b[1;32m      1\u001b[0m \u001b[38;5;66;03m# print out a preview of the data in q11.\u001b[39;00m\n\u001b[1;32m      2\u001b[0m \u001b[38;5;66;03m# note the column names in the preview.\u001b[39;00m\n\u001b[0;32m----> 3\u001b[0m \u001b[43mq13\u001b[49m\n",
            "\u001b[0;31mNameError\u001b[0m: name 'q13' is not defined"
          ]
        }
      ],
      "source": [
        "# print out a preview of the data in q11.\n",
        "# note the column names in the preview.\n",
        "q13"
      ]
    },
    {
      "source": [
        "Use the pandas module to load the file \"f13b.tsv\" and save it to the variable `p13`."
      ],
      "cell_type": "code",
      "metadata": {
        "id": "B4XrcSMetwuo"
      },
      "execution_count": 5,
      "outputs": [
        {
          "output_type": "error",
          "ename": "SyntaxError",
          "evalue": "invalid syntax (595302513.py, line 1)",
          "traceback": [
            "\u001b[0;36m  Cell \u001b[0;32mIn[5], line 1\u001b[0;36m\u001b[0m\n\u001b[0;31m    Use the pandas module to load the file \"f13b.tsv\" and save it to the variable `p13`.\u001b[0m\n\u001b[0m        ^\u001b[0m\n\u001b[0;31mSyntaxError\u001b[0m\u001b[0;31m:\u001b[0m invalid syntax\n"
          ]
        }
      ]
    },
    {
      "cell_type": "code",
      "execution_count": 6,
      "metadata": {
        "id": "7TC3K_jAOP6W"
      },
      "outputs": [
        {
          "output_type": "error",
          "ename": "NameError",
          "evalue": "name 'pd' is not defined",
          "traceback": [
            "\u001b[0;31m---------------------------------------------------------------------------\u001b[0m",
            "\u001b[0;31mNameError\u001b[0m                                 Traceback (most recent call last)",
            "Cell \u001b[0;32mIn[6], line 2\u001b[0m\n\u001b[1;32m      1\u001b[0m \u001b[38;5;66;03m# read f13b.tsv and save it as p13, following the example for q13.\u001b[39;00m\n\u001b[0;32m----> 2\u001b[0m p13 \u001b[38;5;241m=\u001b[39m \u001b[43mpd\u001b[49m\u001b[38;5;241m.\u001b[39mread_csv(\u001b[38;5;124m\"\u001b[39m\u001b[38;5;124mf13b.tsv\u001b[39m\u001b[38;5;124m\"\u001b[39m, sep\u001b[38;5;241m=\u001b[39m\u001b[38;5;124m\"\u001b[39m\u001b[38;5;130;01m\\t\u001b[39;00m\u001b[38;5;124m\"\u001b[39m)\n",
            "\u001b[0;31mNameError\u001b[0m: name 'pd' is not defined"
          ]
        }
      ],
      "source": [
        "# read f13b.tsv and save it as p13, following the example for q13.\n",
        "p13 = pd.read_csv(\"f13b.tsv\", sep=\"\\t\")"
      ]
    },
    {
      "cell_type": "code",
      "execution_count": 7,
      "metadata": {
        "id": "dAcGakAxOSsd"
      },
      "outputs": [
        {
          "output_type": "error",
          "ename": "NameError",
          "evalue": "name 'p13' is not defined",
          "traceback": [
            "\u001b[0;31m---------------------------------------------------------------------------\u001b[0m",
            "\u001b[0;31mNameError\u001b[0m                                 Traceback (most recent call last)",
            "Cell \u001b[0;32mIn[7], line 1\u001b[0m\n\u001b[0;32m----> 1\u001b[0m \u001b[43mp13\u001b[49m\n",
            "\u001b[0;31mNameError\u001b[0m: name 'p13' is not defined"
          ]
        }
      ],
      "source": [
        "p13"
      ]
    },
    {
      "source": [
        "### Problem 14\n",
        "\n",
        "The code below loads the abalone dataset and saves it in the variable `q14`.\n",
        "You can look at the preview, or check `q14.columns` to see the column names.\n"
      ],
      "cell_type": "code",
      "metadata": {
        "id": "5HFGbnHCUv_B"
      },
      "execution_count": null,
      "outputs": []
    },
    {
      "cell_type": "code",
      "execution_count": 8,
      "metadata": {
        "id": "0NNXAPW3PXu7"
      },
      "outputs": [
        {
          "output_type": "error",
          "ename": "NameError",
          "evalue": "name 'pd' is not defined",
          "traceback": [
            "\u001b[0;31m---------------------------------------------------------------------------\u001b[0m",
            "\u001b[0;31mNameError\u001b[0m                                 Traceback (most recent call last)",
            "Cell \u001b[0;32mIn[8], line 1\u001b[0m\n\u001b[0;32m----> 1\u001b[0m q14 \u001b[38;5;241m=\u001b[39m \u001b[43mpd\u001b[49m\u001b[38;5;241m.\u001b[39mread_csv(\u001b[38;5;124m\"\u001b[39m\u001b[38;5;124mhttps://raw.githubusercontent.com/bu-cds-omds/dx601-examples/main/data/abalone.tsv\u001b[39m\u001b[38;5;124m\"\u001b[39m, sep\u001b[38;5;241m=\u001b[39m\u001b[38;5;124m\"\u001b[39m\u001b[38;5;130;01m\\t\u001b[39;00m\u001b[38;5;124m\"\u001b[39m)\n",
            "\u001b[0;31mNameError\u001b[0m: name 'pd' is not defined"
          ]
        }
      ],
      "source": [
        "q14 = pd.read_csv(\"https://raw.githubusercontent.com/bu-cds-omds/dx601-examples/main/data/abalone.tsv\", sep=\"\\t\")"
      ]
    },
    {
      "cell_type": "code",
      "execution_count": 9,
      "metadata": {
        "id": "ilb1XDU-PflB"
      },
      "outputs": [
        {
          "output_type": "error",
          "ename": "NameError",
          "evalue": "name 'q14' is not defined",
          "traceback": [
            "\u001b[0;31m---------------------------------------------------------------------------\u001b[0m",
            "\u001b[0;31mNameError\u001b[0m                                 Traceback (most recent call last)",
            "Cell \u001b[0;32mIn[9], line 1\u001b[0m\n\u001b[0;32m----> 1\u001b[0m \u001b[43mq14\u001b[49m\n",
            "\u001b[0;31mNameError\u001b[0m: name 'q14' is not defined"
          ]
        }
      ],
      "source": [
        "q14"
      ]
    },
    {
      "cell_type": "code",
      "execution_count": 10,
      "metadata": {
        "id": "AyS1VSZhPiA_"
      },
      "outputs": [
        {
          "output_type": "error",
          "ename": "NameError",
          "evalue": "name 'q14' is not defined",
          "traceback": [
            "\u001b[0;31m---------------------------------------------------------------------------\u001b[0m",
            "\u001b[0;31mNameError\u001b[0m                                 Traceback (most recent call last)",
            "Cell \u001b[0;32mIn[10], line 1\u001b[0m\n\u001b[0;32m----> 1\u001b[0m \u001b[43mq14\u001b[49m\u001b[38;5;241m.\u001b[39mcolumns\n",
            "\u001b[0;31mNameError\u001b[0m: name 'q14' is not defined"
          ]
        }
      ],
      "source": [
        "q14.columns"
      ]
    },
    {
      "source": [
        "Set the variable `p14` to be the name of the first column of the abalone dataset."
      ],
      "cell_type": "code",
      "metadata": {
        "id": "ktlC4uzIuKhd"
      },
      "execution_count": 5,
      "outputs": [
        {
          "output_type": "error",
          "ename": "SyntaxError",
          "evalue": "invalid syntax (2983291812.py, line 1)",
          "traceback": [
            "\u001b[0;36m  Cell \u001b[0;32mIn[5], line 1\u001b[0;36m\u001b[0m\n\u001b[0;31m    Set the variable `p14` to be the name of the first column of the abalone dataset.\u001b[0m\n\u001b[0m        ^\u001b[0m\n\u001b[0;31mSyntaxError\u001b[0m\u001b[0;31m:\u001b[0m invalid syntax\n"
          ]
        }
      ]
    },
    {
      "cell_type": "code",
      "execution_count": 6,
      "metadata": {
        "id": "vC02WpGHPj29"
      },
      "outputs": [
        {
          "output_type": "error",
          "ename": "NameError",
          "evalue": "name 'q14' is not defined",
          "traceback": [
            "\u001b[0;31m---------------------------------------------------------------------------\u001b[0m",
            "\u001b[0;31mNameError\u001b[0m                                 Traceback (most recent call last)",
            "Cell \u001b[0;32mIn[6], line 2\u001b[0m\n\u001b[1;32m      1\u001b[0m \u001b[38;5;66;03m# column names are text data, so use quotes to save them in a variable.\u001b[39;00m\n\u001b[0;32m----> 2\u001b[0m p14 \u001b[38;5;241m=\u001b[39m \u001b[43mq14\u001b[49m\u001b[38;5;241m.\u001b[39mcolumns[\u001b[38;5;241m0\u001b[39m]\n",
            "\u001b[0;31mNameError\u001b[0m: name 'q14' is not defined"
          ]
        }
      ],
      "source": [
        "# column names are text data, so use quotes to save them in a variable.\n",
        "p14 = q14.columns[0]"
      ]
    },
    {
      "cell_type": "markdown",
      "metadata": {
        "id": "CvH5UWjcU4vK"
      },
      "source": [
        "### Problem 15\n",
        "\n",
        "Another Python library that we will use in this module is NumPy.\n",
        "NumPy is best known for its special arrays that make calculations with lots of numbers easy.\n",
        "\n",
        "The following example converts a small list `q15a` into a NumPy array `q15b`.\n",
        "\n"
      ]
    },
    {
      "cell_type": "code",
      "execution_count": 7,
      "metadata": {
        "id": "7S2Atlb8vhef"
      },
      "outputs": [
        {
          "output_type": "error",
          "ename": "ModuleNotFoundError",
          "evalue": "No module named 'numpy'",
          "traceback": [
            "\u001b[0;31m---------------------------------------------------------------------------\u001b[0m",
            "\u001b[0;31mModuleNotFoundError\u001b[0m                       Traceback (most recent call last)",
            "Cell \u001b[0;32mIn[7], line 1\u001b[0m\n\u001b[0;32m----> 1\u001b[0m \u001b[38;5;28;01mimport\u001b[39;00m\u001b[38;5;250m \u001b[39m\u001b[38;5;21;01mnumpy\u001b[39;00m\u001b[38;5;250m \u001b[39m\u001b[38;5;28;01mas\u001b[39;00m\u001b[38;5;250m \u001b[39m\u001b[38;5;21;01mnp\u001b[39;00m\n",
            "\u001b[0;31mModuleNotFoundError\u001b[0m: No module named 'numpy'"
          ]
        }
      ],
      "source": [
        "import numpy as np"
      ]
    },
    {
      "cell_type": "code",
      "execution_count": 8,
      "metadata": {
        "id": "qIn2S-FkvXKU"
      },
      "outputs": [],
      "source": [
        "q15a = [1, 3, 8, 6]"
      ]
    },
    {
      "cell_type": "code",
      "execution_count": 128,
      "metadata": {
        "id": "qdJmwZCZvb-Y"
      },
      "outputs": [
        {
          "output_type": "error",
          "ename": "NameError",
          "evalue": "name 'np' is not defined",
          "traceback": [
            "\u001b[0;31m---------------------------------------------------------------------------\u001b[0m",
            "\u001b[0;31mNameError\u001b[0m                                 Traceback (most recent call last)",
            "Cell \u001b[0;32mIn[128], line 1\u001b[0m\n\u001b[0;32m----> 1\u001b[0m q15b \u001b[38;5;241m=\u001b[39m \u001b[43mnp\u001b[49m\u001b[38;5;241m.\u001b[39marray(q15a)\n",
            "\u001b[0;31mNameError\u001b[0m: name 'np' is not defined"
          ]
        }
      ],
      "source": [
        "q15b = np.array(q15a)"
      ]
    },
    {
      "cell_type": "code",
      "execution_count": 9,
      "metadata": {
        "id": "1GNNJ3BDvkNf"
      },
      "outputs": [
        {
          "output_type": "error",
          "ename": "NameError",
          "evalue": "name 'q15b' is not defined",
          "traceback": [
            "\u001b[0;31m---------------------------------------------------------------------------\u001b[0m",
            "\u001b[0;31mNameError\u001b[0m                                 Traceback (most recent call last)",
            "Cell \u001b[0;32mIn[9], line 1\u001b[0m\n\u001b[0;32m----> 1\u001b[0m \u001b[43mq15b\u001b[49m\n",
            "\u001b[0;31mNameError\u001b[0m: name 'q15b' is not defined"
          ]
        }
      ],
      "source": [
        "q15b"
      ]
    },
    {
      "source": [
        "Set `p15` to be a NumPy array with the same values as the list `q15c`."
      ],
      "cell_type": "code",
      "metadata": {
        "id": "Iz13M9FvwMEP"
      },
      "execution_count": 10,
      "outputs": [
        {
          "output_type": "error",
          "ename": "SyntaxError",
          "evalue": "invalid syntax (3306833041.py, line 1)",
          "traceback": [
            "\u001b[0;36m  Cell \u001b[0;32mIn[10], line 1\u001b[0;36m\u001b[0m\n\u001b[0;31m    Set `p15` to be a NumPy array with the same values as the list `q15c`.\u001b[0m\n\u001b[0m        ^\u001b[0m\n\u001b[0;31mSyntaxError\u001b[0m\u001b[0;31m:\u001b[0m invalid syntax\n"
          ]
        }
      ]
    },
    {
      "cell_type": "code",
      "execution_count": 15,
      "metadata": {
        "id": "HSUilNtswGgy"
      },
      "outputs": [],
      "source": [
        "q15c = [2, 3, 5, 9]"
      ]
    },
    {
      "cell_type": "code",
      "execution_count": 16,
      "metadata": {
        "id": "HTQ2TqxRwJAJ"
      },
      "outputs": [
        {
          "output_type": "error",
          "ename": "NameError",
          "evalue": "name 'np' is not defined",
          "traceback": [
            "\u001b[0;31m---------------------------------------------------------------------------\u001b[0m",
            "\u001b[0;31mNameError\u001b[0m                                 Traceback (most recent call last)",
            "Cell \u001b[0;32mIn[16], line 1\u001b[0m\n\u001b[0;32m----> 1\u001b[0m p15 \u001b[38;5;241m=\u001b[39m \u001b[43mnp\u001b[49m\u001b[38;5;241m.\u001b[39marray(q15c)\n",
            "\u001b[0;31mNameError\u001b[0m: name 'np' is not defined"
          ]
        }
      ],
      "source": [
        "p15 = np.array(q15c)"
      ]
    },
    {
      "cell_type": "code",
      "execution_count": 18,
      "metadata": {
        "id": "e55ZY-9MwQqC"
      },
      "outputs": [
        {
          "output_type": "execute_result",
          "data": {
            "text/plain": [
              "Ellipsis"
            ]
          },
          "metadata": {},
          "execution_count": 18
        }
      ],
      "source": [
        "p15"
      ]
    },
    {
      "source": [
        "### Problem 16\n",
        "\n",
        "Set `p16` to be the sum of the numbers `q16a` and `q16b`."
      ],
      "cell_type": "code",
      "metadata": {
        "id": "ZM4Tnh27xrdS"
      },
      "execution_count": 19,
      "outputs": [
        {
          "output_type": "error",
          "ename": "SyntaxError",
          "evalue": "invalid syntax (2071717835.py, line 3)",
          "traceback": [
            "\u001b[0;36m  Cell \u001b[0;32mIn[19], line 3\u001b[0;36m\u001b[0m\n\u001b[0;31m    Set `p16` to be the sum of the numbers `q16a` and `q16b`.\u001b[0m\n\u001b[0m        ^\u001b[0m\n\u001b[0;31mSyntaxError\u001b[0m\u001b[0;31m:\u001b[0m invalid syntax\n"
          ]
        }
      ]
    },
    {
      "cell_type": "code",
      "execution_count": 28,
      "metadata": {
        "id": "wp2Sh3HDxyxV"
      },
      "outputs": [],
      "source": [
        "q16a = 1e10"
      ]
    },
    {
      "cell_type": "code",
      "execution_count": 29,
      "metadata": {
        "id": "CFmomZx8x2PX"
      },
      "outputs": [
        {
          "output_type": "execute_result",
          "data": {
            "text/plain": [
              "10000000000.0"
            ]
          },
          "metadata": {},
          "execution_count": 29
        }
      ],
      "source": [
        "q16a"
      ]
    },
    {
      "cell_type": "code",
      "execution_count": 30,
      "metadata": {
        "id": "zGuEdNyFx3HX"
      },
      "outputs": [],
      "source": [
        "q16b = 22 / 7"
      ]
    },
    {
      "cell_type": "code",
      "execution_count": 43,
      "metadata": {
        "id": "oPN6gEBQx6MQ"
      },
      "outputs": [
        {
          "output_type": "execute_result",
          "data": {
            "text/plain": [
              "3.142857142857143"
            ]
          },
          "metadata": {},
          "execution_count": 43
        }
      ],
      "source": [
        "q16b"
      ]
    },
    {
      "cell_type": "code",
      "execution_count": 45,
      "metadata": {
        "id": "wexPTQm2x7Pc"
      },
      "outputs": [],
      "source": [
        "p16 = q16a + q16b"
      ]
    },
    {
      "source": [
        "### Problem 17\n",
        "\n",
        "Set `p17` to the sum of numbers in `q17`."
      ],
      "cell_type": "code",
      "metadata": {
        "id": "vO3N_wngU6gc"
      },
      "execution_count": 46,
      "outputs": [
        {
          "output_type": "error",
          "ename": "SyntaxError",
          "evalue": "invalid syntax (45977005.py, line 3)",
          "traceback": [
            "\u001b[0;36m  Cell \u001b[0;32mIn[46], line 3\u001b[0;36m\u001b[0m\n\u001b[0;31m    Set `p17` to the sum of numbers in `q17`.\u001b[0m\n\u001b[0m        ^\u001b[0m\n\u001b[0;31mSyntaxError\u001b[0m\u001b[0;31m:\u001b[0m invalid syntax\n"
          ]
        }
      ]
    },
    {
      "cell_type": "code",
      "execution_count": 48,
      "metadata": {
        "id": "avYpMF1ixf-5"
      },
      "outputs": [],
      "source": [
        "q17 = [9.1, 4.3, 1.7, 2.8, 2.5, 1.5, 1.4, 3.6, 5.8, 2.3]"
      ]
    },
    {
      "cell_type": "code",
      "execution_count": 49,
      "metadata": {
        "id": "vtl3693Hxixj"
      },
      "outputs": [],
      "source": [
        "p17 = sum(q17)"
      ]
    },
    {
      "cell_type": "code",
      "execution_count": 50,
      "metadata": {},
      "outputs": [
        {
          "output_type": "execute_result",
          "data": {
            "text/plain": [
              "34.99999999999999"
            ]
          },
          "metadata": {},
          "execution_count": 50
        }
      ],
      "source": [
        "p17"
      ]
    },
    {
      "source": [
        "### Problem 18\n",
        "\n",
        "Set `p18` to be a list of all the squares of values in `q18`."
      ],
      "cell_type": "code",
      "metadata": {
        "id": "wyESUMKUU7Ge"
      },
      "execution_count": 36,
      "outputs": [
        {
          "output_type": "error",
          "ename": "SyntaxError",
          "evalue": "invalid syntax (3703561368.py, line 3)",
          "traceback": [
            "\u001b[0;36m  Cell \u001b[0;32mIn[36], line 3\u001b[0;36m\u001b[0m\n\u001b[0;31m    Set `p18` to be a list of all the squares of values in `q18`.\u001b[0m\n\u001b[0m        ^\u001b[0m\n\u001b[0;31mSyntaxError\u001b[0m\u001b[0;31m:\u001b[0m invalid syntax\n"
          ]
        }
      ]
    },
    {
      "cell_type": "code",
      "execution_count": 37,
      "metadata": {
        "id": "3Td9iwXAyCRN"
      },
      "outputs": [],
      "source": [
        "q18 = [7.1, 5.9, 8.0, 8.3, 8.1, 0.3, 6.1, 7.0, 7.0, 4.8]"
      ]
    },
    {
      "cell_type": "code",
      "execution_count": 39,
      "metadata": {
        "id": "Tx4PYPDkyEwD"
      },
      "outputs": [],
      "source": [
        "p18 = sum([x**2 for x in q18])"
      ]
    },
    {
      "cell_type": "code",
      "execution_count": 51,
      "metadata": {},
      "outputs": [
        {
          "output_type": "execute_result",
          "data": {
            "text/plain": [
              "442.06"
            ]
          },
          "metadata": {},
          "execution_count": 51
        }
      ],
      "source": [
        "p18"
      ]
    },
    {
      "cell_type": "markdown",
      "metadata": {
        "id": "rabH1UKvU82c"
      },
      "source": [
        "### Problem 19\n",
        "\n",
        "Set `p19` to be the sum of the cubes of values in `q19`."
      ]
    },
    {
      "cell_type": "code",
      "execution_count": 52,
      "metadata": {
        "id": "0AGWoBZDyn3j"
      },
      "outputs": [],
      "source": [
        "q19 = [4.5, 9.8, 5.7, 5.7, 2.4, 4.7, 2.0, 3.3, 3.5, 4.4]"
      ]
    },
    {
      "cell_type": "code",
      "execution_count": 53,
      "metadata": {
        "id": "dzrWIEdAyo0m"
      },
      "outputs": [],
      "source": [
        "p19 = sum([x**3 for x in q19])"
      ]
    },
    {
      "cell_type": "code",
      "execution_count": 54,
      "metadata": {},
      "outputs": [
        {
          "output_type": "execute_result",
          "data": {
            "text/plain": [
              "1692.3460000000002"
            ]
          },
          "metadata": {},
          "execution_count": 54
        }
      ],
      "source": [
        "p19"
      ]
    },
    {
      "source": [
        "### Problem 20\n",
        "\n",
        "Set `p20` to be the contents of file \"f20.tsv\" after reading it with pandas."
      ],
      "cell_type": "code",
      "metadata": {
        "id": "rQPvC5HYU9hJ"
      },
      "execution_count": 55,
      "outputs": [
        {
          "output_type": "error",
          "ename": "SyntaxError",
          "evalue": "invalid syntax (1170243936.py, line 3)",
          "traceback": [
            "\u001b[0;36m  Cell \u001b[0;32mIn[55], line 3\u001b[0;36m\u001b[0m\n\u001b[0;31m    Set `p20` to be the contents of file \"f20.tsv\" after reading it with pandas.\u001b[0m\n\u001b[0m        ^\u001b[0m\n\u001b[0;31mSyntaxError\u001b[0m\u001b[0;31m:\u001b[0m invalid syntax\n"
          ]
        }
      ]
    },
    {
      "cell_type": "code",
      "execution_count": 57,
      "metadata": {
        "id": "GlSF2QJty9qA"
      },
      "outputs": [
        {
          "output_type": "error",
          "ename": "NameError",
          "evalue": "name 'pd' is not defined",
          "traceback": [
            "\u001b[0;31m---------------------------------------------------------------------------\u001b[0m",
            "\u001b[0;31mNameError\u001b[0m                                 Traceback (most recent call last)",
            "Cell \u001b[0;32mIn[57], line 1\u001b[0m\n\u001b[0;32m----> 1\u001b[0m p20 \u001b[38;5;241m=\u001b[39m \u001b[43mpd\u001b[49m\u001b[38;5;241m.\u001b[39mread_csv(\u001b[38;5;124m\"\u001b[39m\u001b[38;5;124mf13a.tsv\u001b[39m\u001b[38;5;124m\"\u001b[39m, sep\u001b[38;5;241m=\u001b[39m\u001b[38;5;124m\"\u001b[39m\u001b[38;5;130;01m\\t\u001b[39;00m\u001b[38;5;124m\"\u001b[39m)\n",
            "\u001b[0;31mNameError\u001b[0m: name 'pd' is not defined"
          ]
        }
      ],
      "source": [
        "p20 = pd.read_csv(\"f13a.tsv\", sep=\"\\t\")"
      ]
    },
    {
      "cell_type": "code",
      "execution_count": 58,
      "metadata": {},
      "outputs": [
        {
          "output_type": "error",
          "ename": "NameError",
          "evalue": "name 'p20' is not defined",
          "traceback": [
            "\u001b[0;31m---------------------------------------------------------------------------\u001b[0m",
            "\u001b[0;31mNameError\u001b[0m                                 Traceback (most recent call last)",
            "Cell \u001b[0;32mIn[58], line 1\u001b[0m\n\u001b[0;32m----> 1\u001b[0m \u001b[43mp20\u001b[49m\n",
            "\u001b[0;31mNameError\u001b[0m: name 'p20' is not defined"
          ]
        }
      ],
      "source": [
        "p20"
      ]
    },
    {
      "cell_type": "code",
      "execution_count": null,
      "metadata": {},
      "outputs": [],
      "source": []
    }
  ],
  "metadata": {
    "colab": {
      "toc_visible": false
    },
    "kernelspec": {
      "name": "python3",
      "display_name": "Python 3.9.7 64-bit"
    },
    "language_info": {
      "codemirror_mode": {
        "name": "ipython",
        "version": 3
      },
      "file_extension": ".py",
      "mimetype": "text/x-python",
      "name": "python",
      "nbconvert_exporter": "python",
      "pygments_lexer": "ipython3",
      "version": "3.9.7"
    },
    "interpreter": {
      "hash": "d7f94b8b1e41b02170d45ac71ce2d6b011e7cd56207b4c480f5292088bcfab93"
    }
  },
  "nbformat": 4,
  "nbformat_minor": 0
}